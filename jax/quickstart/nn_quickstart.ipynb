{
 "cells": [
  {
   "cell_type": "code",
   "execution_count": null,
   "id": "6f316ef9",
   "metadata": {},
   "outputs": [],
   "source": [
    "from flax import linen as nn\n",
    "from jax import numpy as jnp\n",
    "from jax import random\n",
    "\n",
    "batch_size = 8\n",
    "n_embedding = 1024\n",
    "n_feedforward = 4096"
   ]
  },
  {
   "cell_type": "code",
   "execution_count": null,
   "id": "98d3b5de",
   "metadata": {},
   "outputs": [],
   "source": [
    "x = jnp.ones((batch_size, n_embedding), dtype=int)\n",
    "x.shape"
   ]
  },
  {
   "cell_type": "code",
   "execution_count": null,
   "id": "aa7cc6cf",
   "metadata": {},
   "outputs": [],
   "source": [
    "model = nn.Dense(n_feedforward, use_bias=False)\n",
    "model"
   ]
  },
  {
   "cell_type": "code",
   "execution_count": null,
   "id": "cb922d5e",
   "metadata": {},
   "outputs": [],
   "source": [
    "prng_key = random.key(0)\n",
    "w = model.init(prng_key, x)\n",
    "w"
   ]
  },
  {
   "cell_type": "code",
   "execution_count": null,
   "id": "872ed4ca",
   "metadata": {},
   "outputs": [],
   "source": [
    "w['params']['kernel'].shape"
   ]
  },
  {
   "cell_type": "code",
   "execution_count": null,
   "id": "87823c90",
   "metadata": {},
   "outputs": [],
   "source": [
    "y = model.apply(w, x)\n",
    "y"
   ]
  },
  {
   "cell_type": "code",
   "execution_count": null,
   "id": "8fa6a90a",
   "metadata": {},
   "outputs": [],
   "source": [
    "y.shape"
   ]
  }
 ],
 "metadata": {
  "kernelspec": {
   "display_name": "py3_12_7",
   "language": "python",
   "name": "python3"
  },
  "language_info": {
   "codemirror_mode": {
    "name": "ipython",
    "version": 3
   },
   "file_extension": ".py",
   "mimetype": "text/x-python",
   "name": "python",
   "nbconvert_exporter": "python",
   "pygments_lexer": "ipython3",
   "version": "3.12.7"
  }
 },
 "nbformat": 4,
 "nbformat_minor": 5
}
