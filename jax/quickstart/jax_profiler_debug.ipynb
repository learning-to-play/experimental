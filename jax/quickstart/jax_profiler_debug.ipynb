{
 "cells": [
  {
   "cell_type": "code",
   "execution_count": 1,
   "metadata": {},
   "outputs": [],
   "source": [
    "from flax import linen as nn\n",
    "import jax\n",
    "from jax import numpy as jnp\n",
    "from jax import random\n",
    "import optax\n",
    "\n",
    "\n",
    "vocab_size = 64\n",
    "batch_size = 128\n",
    "block_size = 2048\n",
    "n_embd = 2048\n",
    "\n",
    "\n",
    "class Model(nn.Module):\n",
    "\n",
    "    @nn.compact\n",
    "    def __call__(self, x):\n",
    "        e = nn.Embed(vocab_size, n_embd)(x)\n",
    "        logits = nn.Dense(vocab_size)(e)\n",
    "        return logits\n",
    "\n",
    "    def loss(self, params, x, labels):\n",
    "        logits = self.apply(params, x)\n",
    "        return optax.softmax_cross_entropy_with_integer_labels(logits, labels).mean()\n",
    "    \n",
    "\n",
    "class ShapePrinter:\n",
    "  def __init__(self, v): self.v = v\n",
    "  def __repr__(self): return jax.api_util.shaped_abstractify(self.v).str_short()\n"
   ]
  },
  {
   "cell_type": "markdown",
   "metadata": {},
   "source": [
    "# Initialize"
   ]
  },
  {
   "cell_type": "code",
   "execution_count": null,
   "metadata": {},
   "outputs": [],
   "source": [
    "model = Model()\n",
    "prng_key = random.key(0)\n",
    "x = jnp.zeros((1, 1), dtype=int)\n",
    "params = model.init(prng_key, x)\n",
    "\n",
    "%timeit model.apply(params, x).block_until_ready()"
   ]
  },
  {
   "cell_type": "code",
   "execution_count": null,
   "metadata": {},
   "outputs": [],
   "source": [
    "with jax.profiler.trace(\"/tmp/jax-trace\", create_perfetto_link=True):\n",
    "    model.apply(params, x).block_until_ready()"
   ]
  },
  {
   "cell_type": "code",
   "execution_count": null,
   "metadata": {},
   "outputs": [],
   "source": [
    "print(jax.tree.map(ShapePrinter, params))"
   ]
  },
  {
   "cell_type": "markdown",
   "metadata": {},
   "source": [
    "# Train"
   ]
  },
  {
   "cell_type": "code",
   "execution_count": null,
   "metadata": {},
   "outputs": [],
   "source": [
    "max_iters = 1\n",
    "\n",
    "optimizer = optax.adamw(learning_rate=0)\n",
    "optimizer_state = optimizer.init(params)\n",
    "\n",
    "grad_loss = jax.grad(model.loss, argnums=0)\n",
    "\n",
    "x = random.randint(prng_key, (batch_size, block_size), 0, vocab_size)\n",
    "labels = random.randint(prng_key, (batch_size, block_size), 0, vocab_size)\n",
    "\n",
    "for i in range(max_iters):\n",
    "    grad = grad_loss(params, x, labels)\n",
    "    updates, optimizer_state = optimizer.update(grad, optimizer_state, params)\n",
    "    params = optax.apply_updates(params, updates)\n",
    "\n",
    "%timeit model.apply(params, x).block_until_ready()"
   ]
  },
  {
   "cell_type": "code",
   "execution_count": null,
   "metadata": {},
   "outputs": [],
   "source": [
    "with jax.profiler.trace(\"/tmp/jax-trace\", create_perfetto_link=True):\n",
    "    model.apply(params, x).block_until_ready()"
   ]
  },
  {
   "cell_type": "code",
   "execution_count": null,
   "metadata": {},
   "outputs": [],
   "source": [
    "print(jax.tree.map(ShapePrinter, params))"
   ]
  }
 ],
 "metadata": {
  "kernelspec": {
   "display_name": "py3_12_7",
   "language": "python",
   "name": "python3"
  },
  "language_info": {
   "codemirror_mode": {
    "name": "ipython",
    "version": 3
   },
   "file_extension": ".py",
   "mimetype": "text/x-python",
   "name": "python",
   "nbconvert_exporter": "python",
   "pygments_lexer": "ipython3",
   "version": "3.12.7"
  }
 },
 "nbformat": 4,
 "nbformat_minor": 2
}
