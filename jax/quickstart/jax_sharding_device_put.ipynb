{
 "cells": [
  {
   "cell_type": "code",
   "execution_count": null,
   "id": "b25c7425-5d2f-48d4-b9cd-b7d63768bbd1",
   "metadata": {},
   "outputs": [],
   "source": [
    "import jax\n",
    "from jax import jit\n",
    "from jax import numpy as jnp\n",
    "from jax import random\n",
    "\n",
    "jax.devices()"
   ]
  },
  {
   "cell_type": "code",
   "execution_count": null,
   "id": "91b6c749-0740-4adf-9713-406c64ce6e61",
   "metadata": {},
   "outputs": [],
   "source": [
    "def square(x):\n",
    "    return x @ x\n",
    "\n",
    "prng_key = random.key(0)\n",
    "n = 2**14\n",
    "x = random.normal(prng_key, (n, n), dtype=jnp.float32)\n",
    "print(\"Size of x:\", 4 * n ** 2 / 1e9, \"GB\")\n",
    "x.devices()"
   ]
  },
  {
   "cell_type": "code",
   "execution_count": null,
   "id": "50c17324-c362-47f9-9bcd-add4cf9c75e8",
   "metadata": {},
   "outputs": [],
   "source": [
    "jax.debug.visualize_array_sharding(x)\n",
    "%timeit square(x).block_until_ready()"
   ]
  },
  {
   "cell_type": "code",
   "execution_count": null,
   "id": "6af7fe35-685d-452c-8753-2d330cb0cee9",
   "metadata": {},
   "outputs": [],
   "source": [
    "jit_square = jit(square)\n",
    "_ = jit_square(x) # compiles on the first call\n",
    "%timeit jit_square(x)"
   ]
  },
  {
   "cell_type": "code",
   "execution_count": null,
   "id": "b4154afa-9db6-44a9-a6dc-8391b2849f40",
   "metadata": {},
   "outputs": [],
   "source": [
    "from jax.sharding import NamedSharding, PartitionSpec, SingleDeviceSharding\n",
    "\n",
    "mesh = jax.make_mesh((4, 2), ('x', 'y'))\n",
    "y_xy = jax.device_put(x, NamedSharding(mesh, PartitionSpec('x', 'y')))\n",
    "jax.debug.visualize_array_sharding(y_xy)\n",
    "%timeit square(y_xy).block_until_ready()"
   ]
  },
  {
   "cell_type": "code",
   "execution_count": null,
   "id": "24f586b7-92c0-40c1-8760-8246d448acc4",
   "metadata": {},
   "outputs": [],
   "source": [
    "y_xn = jax.device_put(x, NamedSharding(mesh, PartitionSpec('x', None)))\n",
    "jax.debug.visualize_array_sharding(y_xn)\n",
    "%timeit square(y_xn).block_until_ready()"
   ]
  },
  {
   "cell_type": "code",
   "execution_count": null,
   "id": "fe083f64-9b28-4ea6-a39d-67e607db6d6f",
   "metadata": {},
   "outputs": [],
   "source": [
    "y_yn = jax.device_put(x, NamedSharding(mesh, PartitionSpec('y', None)))\n",
    "jax.debug.visualize_array_sharding(y_yn)\n",
    "%timeit square(y_yn).block_until_ready()"
   ]
  },
  {
   "cell_type": "code",
   "execution_count": null,
   "id": "284bbce4-0667-41d4-8c2a-85320f271ab6",
   "metadata": {},
   "outputs": [],
   "source": [
    "y_nx = jax.device_put(x, NamedSharding(mesh, PartitionSpec(None, 'x')))\n",
    "jax.debug.visualize_array_sharding(y_nx)\n",
    "%timeit square(y_nx).block_until_ready()"
   ]
  },
  {
   "cell_type": "code",
   "execution_count": null,
   "id": "872a6b10-37e6-48ff-9300-cc9bef7dd3ac",
   "metadata": {},
   "outputs": [],
   "source": [
    "y_ny = jax.device_put(x, NamedSharding(mesh, PartitionSpec(None, 'y')))\n",
    "jax.debug.visualize_array_sharding(y_ny)\n",
    "%timeit square(y_ny).block_until_ready()"
   ]
  },
  {
   "cell_type": "code",
   "execution_count": null,
   "id": "7c20844f-10b4-444d-9a07-43581ae39bd7",
   "metadata": {},
   "outputs": [],
   "source": [
    "z = jax.device_put(y_xy, SingleDeviceSharding(jax.devices()[0]))\n",
    "jax.debug.visualize_array_sharding(z)\n",
    "%timeit square(z).block_until_ready()"
   ]
  }
 ],
 "metadata": {
  "kernelspec": {
   "display_name": "Python 3 (ipykernel)",
   "language": "python",
   "name": "python3"
  },
  "language_info": {
   "codemirror_mode": {
    "name": "ipython",
    "version": 3
   },
   "file_extension": ".py",
   "mimetype": "text/x-python",
   "name": "python",
   "nbconvert_exporter": "python",
   "pygments_lexer": "ipython3",
   "version": "3.12.7"
  }
 },
 "nbformat": 4,
 "nbformat_minor": 5
}
