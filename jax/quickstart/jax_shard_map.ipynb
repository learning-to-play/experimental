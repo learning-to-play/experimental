{
 "cells": [
  {
   "cell_type": "code",
   "execution_count": null,
   "metadata": {},
   "outputs": [],
   "source": [
    "import jax\n",
    "import jax.numpy as jnp\n",
    "from jax.experimental.shard_map import shard_map\n",
    "from jax.sharding import NamedSharding, PartitionSpec"
   ]
  },
  {
   "cell_type": "code",
   "execution_count": null,
   "metadata": {},
   "outputs": [],
   "source": [
    "mesh = jax.make_mesh((4, 2), ('i', 'j'))"
   ]
  },
  {
   "cell_type": "code",
   "execution_count": null,
   "metadata": {},
   "outputs": [],
   "source": [
    "x = jnp.array([[3.]])"
   ]
  },
  {
   "cell_type": "code",
   "execution_count": null,
   "metadata": {},
   "outputs": [],
   "source": [
    "z = shard_map(lambda: x, mesh=mesh, in_specs=(), out_specs=PartitionSpec('i', 'j'))()\n",
    "print(z)  # prints the same as jnp.tile(x, (4, 2))\n",
    "\n",
    "z = shard_map(lambda: x, mesh=mesh, in_specs=(), out_specs=PartitionSpec('i', None))()\n",
    "print(z)  # prints the same as jnp.tile(x, (4, 1)), or just jnp.tile(x, (4,))\n",
    "\n",
    "z = shard_map(lambda: x, mesh=mesh, in_specs=(), out_specs=PartitionSpec(None, None))()\n",
    "print(z)  # prints the same as jnp.tile(x, (1, 1)), or just x"
   ]
  },
  {
   "cell_type": "code",
   "execution_count": null,
   "metadata": {},
   "outputs": [],
   "source": [
    "x = jnp.arange(8).reshape(4, 2)\n",
    "x"
   ]
  },
  {
   "cell_type": "code",
   "execution_count": null,
   "metadata": {},
   "outputs": [],
   "source": [
    "z = shard_map(lambda x: x, mesh=mesh, in_specs=PartitionSpec('i', 'j'), out_specs=PartitionSpec('i', 'j'))(x)\n",
    "print(z)\n",
    "\n",
    "z = shard_map(lambda x: x, mesh=mesh, in_specs=PartitionSpec('i', None), out_specs=PartitionSpec('i', None))(x)\n",
    "print(z)\n",
    "\n",
    "z = shard_map(lambda x: x, mesh=mesh, in_specs=PartitionSpec('i', None), out_specs=PartitionSpec(None, 'i'))(x)\n",
    "print(z)\n",
    "\n",
    "z = shard_map(lambda x: x, mesh=mesh, in_specs=PartitionSpec('i', None), out_specs=PartitionSpec('i', 'j'))(x)\n",
    "print(z)"
   ]
  },
  {
   "cell_type": "markdown",
   "metadata": {},
   "source": [
    "# `ppermute`"
   ]
  },
  {
   "cell_type": "code",
   "execution_count": null,
   "metadata": {},
   "outputs": [],
   "source": [
    "def f(x):\n",
    "  return jax.lax.ppermute(x, axis_name='i', perm=[(0, 1), (1, 2), (2, 3), (3, 0)])\n",
    "\n",
    "x = jnp.arange(4)\n",
    "z = shard_map(f, mesh=mesh, in_specs=PartitionSpec('i'), out_specs=PartitionSpec('i'))(x)\n",
    "z"
   ]
  },
  {
   "cell_type": "markdown",
   "metadata": {},
   "source": [
    "# `axis_index`"
   ]
  },
  {
   "cell_type": "markdown",
   "metadata": {},
   "source": [
    "def f():\n",
    "  return jnp.array([[jax.lax.axis_index('i'), jax.lax.axis_index('j')]])\n",
    "\n",
    "z = shard_map(f, mesh=mesh, in_specs=PartitionSpec('i', 'j'), out_specs=PartitionSpec('i', 'j'))()\n",
    "z"
   ]
  }
 ],
 "metadata": {
  "kernelspec": {
   "display_name": "py3_12_7",
   "language": "python",
   "name": "python3"
  },
  "language_info": {
   "codemirror_mode": {
    "name": "ipython",
    "version": 3
   },
   "file_extension": ".py",
   "mimetype": "text/x-python",
   "name": "python",
   "nbconvert_exporter": "python",
   "pygments_lexer": "ipython3",
   "version": "3.12.7"
  }
 },
 "nbformat": 4,
 "nbformat_minor": 2
}
