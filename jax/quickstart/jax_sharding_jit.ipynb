{
 "cells": [
  {
   "cell_type": "code",
   "execution_count": null,
   "id": "c9d0ef44-1322-4c00-8fb3-bfcf55846294",
   "metadata": {},
   "outputs": [],
   "source": [
    "import functools\n",
    "\n",
    "import flax\n",
    "from flax import linen as nn\n",
    "import jax\n",
    "from jax import numpy as jnp\n",
    "from jax import random\n",
    "from jax.sharding import NamedSharding, PartitionSpec\n",
    "from jax import tree_util"
   ]
  },
  {
   "cell_type": "markdown",
   "id": "67d14e82-961a-4936-a6c1-1381586e2fc0",
   "metadata": {},
   "source": [
    "# Single device"
   ]
  },
  {
   "cell_type": "code",
   "execution_count": null,
   "id": "44761ec6-fb2f-45ce-99e6-15cdd051f143",
   "metadata": {},
   "outputs": [],
   "source": [
    "BATCH_SIZE = 1024\n",
    "INPUT_SIZE = 2**13\n",
    "LAYER_SIZE = 2**13\n",
    "USE_BIAS = True\n",
    "\n",
    "class MLP(nn.Module):\n",
    "    layer_size: int\n",
    "    use_bias: bool\n",
    "\n",
    "    @nn.compact\n",
    "    def __call__(self, x):\n",
    "        x = nn.Dense(self.layer_size, use_bias=self.use_bias)(x)\n",
    "        return x"
   ]
  },
  {
   "cell_type": "code",
   "execution_count": null,
   "id": "b0415329-bb26-422c-b3a5-bacc99e7b9ed",
   "metadata": {},
   "outputs": [],
   "source": [
    "model = MLP(LAYER_SIZE, USE_BIAS)\n",
    "x = jnp.ones((BATCH_SIZE, INPUT_SIZE))\n",
    "prng_key = random.key(0)\n",
    "params = model.init(prng_key, x)\n",
    "\n",
    "display(params['params']['Dense_0']['kernel'].devices())\n",
    "params"
   ]
  },
  {
   "cell_type": "code",
   "execution_count": null,
   "id": "16a80337-6ecf-4cbc-8fda-06056d8f9997",
   "metadata": {},
   "outputs": [],
   "source": [
    "_ = model.apply(params, x)\n",
    "%timeit model.apply(params, x).block_until_ready()"
   ]
  },
  {
   "cell_type": "code",
   "execution_count": null,
   "id": "89f1b50b-a24f-4a38-94f8-19ee807cd266",
   "metadata": {},
   "outputs": [],
   "source": [
    "def run_timeit(model, params, x):\n",
    "    _ = model.apply(params, x)\n",
    "    result = %timeit -o model.apply(params, x).block_until_ready()\n",
    "    return result\n",
    "\n",
    "def get_flops(batch_size, input_size, layer_size, t):\n",
    "   return 2 * batch_size * input_size * layer_size / t \n",
    "\n",
    "def get_space(batch_size, input_size, layer_size):\n",
    "    return 4 * (batch_size * input_size + input_size * layer_size)"
   ]
  },
  {
   "cell_type": "code",
   "execution_count": null,
   "id": "d069054d-4130-46a2-b65c-b98347814c05",
   "metadata": {},
   "outputs": [],
   "source": [
    "batch_sizes = [4**i for i in range(9)]\n",
    "\n",
    "timeits = []\n",
    "for batch_size in batch_sizes:\n",
    "    x = jnp.ones((batch_size, INPUT_SIZE))\n",
    "    result = run_timeit(model, params, x)\n",
    "    timeits.append(result)"
   ]
  },
  {
   "cell_type": "code",
   "execution_count": null,
   "id": "255166b5-5e7e-40c2-98cc-b9f86f8c2f6d",
   "metadata": {},
   "outputs": [],
   "source": [
    "import matplotlib.pyplot as plt\n",
    "\n",
    "tflops = [get_flops(b, INPUT_SIZE, LAYER_SIZE, t) / 1e12 for b, t in zip(batch_sizes, [t.average for t in timeits])]\n",
    "plt.plot(batch_sizes, tflops);"
   ]
  },
  {
   "cell_type": "markdown",
   "id": "8c4194a0-8496-474b-90d0-b86bc2c477ee",
   "metadata": {},
   "source": [
    "# Sharding `params` with `jax.eval_shape`\n",
    "`jax.device_put` can shard an array that is on a single chip. Therefore, it can't be used for arrays that are too large to fit on a single chip. Some functions have an argument for specifying the sharding. For example, `jax.numpy.ones` has an argument `device`. Use `jax.eval_shape` for a general solution to this problem. Note that all arguments passed via `eval_shape()` will be treated as dynamic. Static arguments can be included via closure, for example using `functools.partial()`."
   ]
  },
  {
   "cell_type": "code",
   "execution_count": null,
   "id": "ee677688-975d-4314-a4ad-73e168fc6163",
   "metadata": {},
   "outputs": [],
   "source": [
    "BATCH_SIZE = 2**16\n",
    "INPUT_SIZE = 2**16\n",
    "LAYER_SIZE = 2**16\n",
    "USE_BIAS = True\n",
    "\n",
    "# x = jnp.ones((BATCH_SIZE, INPUT_SIZE)) # fails with RESOURCE_EXHAUSTED on TPU v3\n",
    "# params = MLP(LAYER_SIZE, USE_BIAS).init(random.key(0), jnp.ones((1, INPUT_SIZE))) # fails with RESOURCE_EXHAUSTED on TPU v3"
   ]
  },
  {
   "cell_type": "code",
   "execution_count": null,
   "id": "73e125d7-d33d-4d9b-9b4f-4a30f8542542",
   "metadata": {},
   "outputs": [],
   "source": [
    "mesh = jax.make_mesh((8, 1), ('x', 'y'))\n",
    "mesh"
   ]
  },
  {
   "cell_type": "code",
   "execution_count": null,
   "id": "e174f63a-f73d-4579-9901-903bfa4b41ca",
   "metadata": {},
   "outputs": [],
   "source": [
    "class MLP(nn.Module):\n",
    "    layer_size: int\n",
    "    use_bias: bool\n",
    "\n",
    "    @nn.compact\n",
    "    def __call__(self, x):\n",
    "        kernel_init = nn.with_partitioning(nn.initializers.lecun_normal(), ('x', 'y'))\n",
    "        bias_init = nn.with_partitioning(nn.initializers.constant(0), ('x'))\n",
    "        x = nn.Dense(self.layer_size, use_bias=self.use_bias, kernel_init=kernel_init, bias_init=bias_init)(x)\n",
    "        return x"
   ]
  },
  {
   "cell_type": "code",
   "execution_count": null,
   "id": "ed15c0e3-971a-4b85-a9ec-8904e1804ab4",
   "metadata": {},
   "outputs": [],
   "source": [
    "model = MLP(LAYER_SIZE, USE_BIAS)\n",
    "prng_key = random.key(0)\n",
    "params_shape = jax.eval_shape(functools.partial(model.init, prng_key), jax.ShapeDtypeStruct((BATCH_SIZE, INPUT_SIZE), dtype=float))\n",
    "params_shape"
   ]
  },
  {
   "cell_type": "code",
   "execution_count": null,
   "id": "02e0f3ae-8d27-483f-b7ec-ac3b3be3cc96",
   "metadata": {},
   "outputs": [],
   "source": [
    "params_sharding = nn.get_sharding(params_shape, mesh)\n",
    "params_sharding"
   ]
  },
  {
   "cell_type": "code",
   "execution_count": null,
   "id": "038402d2-26db-464e-be7c-84cf535fa7c0",
   "metadata": {},
   "outputs": [],
   "source": [
    "params = jax.jit(model.init, out_shardings=params_sharding)(prng_key, jax.ShapeDtypeStruct((BATCH_SIZE, INPUT_SIZE), dtype=float))\n",
    "params"
   ]
  },
  {
   "cell_type": "code",
   "execution_count": null,
   "id": "94558318-887e-4c74-9b0d-d43d15266620",
   "metadata": {},
   "outputs": [],
   "source": [
    "jax.debug.visualize_array_sharding(params['params']['Dense_0']['kernel'].value)"
   ]
  },
  {
   "cell_type": "code",
   "execution_count": null,
   "id": "f0fd9819-52b4-49cb-944c-76ce06ca4a91",
   "metadata": {},
   "outputs": [],
   "source": [
    "jax.debug.visualize_array_sharding(params['params']['Dense_0']['bias'].value)"
   ]
  },
  {
   "cell_type": "code",
   "execution_count": null,
   "id": "1f7e46bf-8a3b-4661-99ef-c716ede5f853",
   "metadata": {},
   "outputs": [],
   "source": [
    "batch_sizes = [4**i for i in range(7)]\n",
    "\n",
    "timeits = []\n",
    "for batch_size in batch_sizes:\n",
    "    x = jnp.ones((batch_size, INPUT_SIZE))\n",
    "    result = run_timeit(model, params, x)\n",
    "    timeits.append(result)"
   ]
  },
  {
   "cell_type": "code",
   "execution_count": null,
   "id": "8a2f2087-4cd7-425b-b1e0-6710e294f1dc",
   "metadata": {},
   "outputs": [],
   "source": [
    "import matplotlib.pyplot as plt\n",
    "\n",
    "tflops = [get_flops(b, INPUT_SIZE, LAYER_SIZE, t) / 1e12 for b, t in zip(batch_sizes, [t.average for t in timeits])]\n",
    "plt.plot(batch_sizes, tflops);"
   ]
  },
  {
   "cell_type": "markdown",
   "id": "fe2bb812-13fc-4d17-924f-24ced0a43180",
   "metadata": {},
   "source": [
    "# Sharding `x`"
   ]
  },
  {
   "cell_type": "markdown",
   "id": "dec4e79f-e227-42ba-ad7d-b8aab4648865",
   "metadata": {},
   "source": [
    "## Using `device` argument in `jnp.ones`"
   ]
  },
  {
   "cell_type": "code",
   "execution_count": null,
   "id": "9abd9779-df9a-4b92-9489-133ac529e243",
   "metadata": {},
   "outputs": [],
   "source": [
    "x = jnp.ones((BATCH_SIZE, INPUT_SIZE), device=NamedSharding(mesh, PartitionSpec('x', 'y')))\n",
    "jax.debug.visualize_array_sharding(x)"
   ]
  },
  {
   "cell_type": "markdown",
   "id": "e1caf200-3735-4b6b-b188-b74dec71bb23",
   "metadata": {},
   "source": [
    "## Using `jax.jit` and `NamedSharding`"
   ]
  },
  {
   "cell_type": "code",
   "execution_count": null,
   "id": "ad6cae68-364e-4ec4-8e1c-ee98b56ccea5",
   "metadata": {},
   "outputs": [],
   "source": [
    "initializer = nn.initializers.normal() # nn.initializers.constant(1)\n",
    "initializer_sharding = NamedSharding(mesh, PartitionSpec('x', 'y'))\n",
    "initializer_sharded = jax.jit(functools.partial(initializer, prng_key, (BATCH_SIZE, INPUT_SIZE), dtype=float), out_shardings=initializer_sharding)\n",
    "x = initializer_sharded()\n",
    "jax.debug.visualize_array_sharding(x)"
   ]
  },
  {
   "cell_type": "markdown",
   "id": "541502ab-289c-4be2-a824-25ad89153d21",
   "metadata": {},
   "source": [
    "## Using `jax.jit` and `jax.eval_shape`"
   ]
  },
  {
   "cell_type": "code",
   "execution_count": null,
   "id": "6ef44a8d-b1d4-4617-8848-8d1dfa03b026",
   "metadata": {},
   "outputs": [],
   "source": [
    "initializer = nn.initializers.normal()\n",
    "initializer"
   ]
  },
  {
   "cell_type": "code",
   "execution_count": null,
   "id": "0bd3954d-244a-44f0-9c03-73347226e260",
   "metadata": {},
   "outputs": [],
   "source": [
    "initializer_partitioned = nn.with_partitioning(initializer, ('x', 'y'))\n",
    "initializer_partitioned"
   ]
  },
  {
   "cell_type": "code",
   "execution_count": null,
   "id": "70028834-64f3-4a5d-8e22-492ea465c65c",
   "metadata": {},
   "outputs": [],
   "source": [
    "initializer_shape = jax.eval_shape(functools.partial(initializer_partitioned, prng_key, (BATCH_SIZE, INPUT_SIZE)))\n",
    "initializer_shape"
   ]
  },
  {
   "cell_type": "code",
   "execution_count": null,
   "id": "1a2c61d3-3468-48ff-b639-f8a6daa3915a",
   "metadata": {},
   "outputs": [],
   "source": [
    "initializer_sharding = nn.get_sharding(initializer_shape, mesh)\n",
    "initializer_sharding"
   ]
  },
  {
   "cell_type": "code",
   "execution_count": null,
   "id": "881896a4-0386-45b8-a627-5613ac35f29e",
   "metadata": {},
   "outputs": [],
   "source": [
    "x = jax.jit(functools.partial(initializer, prng_key, (BATCH_SIZE, INPUT_SIZE), dtype=float), out_shardings=initializer_sharding)()\n",
    "jax.debug.visualize_array_sharding(x)"
   ]
  },
  {
   "cell_type": "code",
   "execution_count": null,
   "id": "9b327992-a4d2-4bda-b64f-f2b89aefe0e3",
   "metadata": {},
   "outputs": [],
   "source": [
    "y = model.apply(params, x)\n",
    "jax.debug.visualize_array_sharding(y)"
   ]
  }
 ],
 "metadata": {
  "kernelspec": {
   "display_name": "Python 3 (ipykernel)",
   "language": "python",
   "name": "python3"
  },
  "language_info": {
   "codemirror_mode": {
    "name": "ipython",
    "version": 3
   },
   "file_extension": ".py",
   "mimetype": "text/x-python",
   "name": "python",
   "nbconvert_exporter": "python",
   "pygments_lexer": "ipython3",
   "version": "3.12.8"
  }
 },
 "nbformat": 4,
 "nbformat_minor": 5
}
