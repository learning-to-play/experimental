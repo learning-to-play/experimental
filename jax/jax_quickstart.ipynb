{
 "cells": [
  {
   "cell_type": "code",
   "execution_count": 1,
   "metadata": {},
   "outputs": [
    {
     "data": {
      "text/plain": [
       "Array([9., 0., 9.], dtype=float32)"
      ]
     },
     "execution_count": 1,
     "metadata": {},
     "output_type": "execute_result"
    }
   ],
   "source": [
    "# Derivative\n",
    "from jax import grad\n",
    "import jax.numpy as jnp\n",
    "\n",
    "def squared(x):\n",
    "    return x**2\n",
    "\n",
    "squared(jnp.array([-3., 0, 3.]))"
   ]
  },
  {
   "cell_type": "code",
   "execution_count": 2,
   "metadata": {},
   "outputs": [
    {
     "data": {
      "text/plain": [
       "Array(4., dtype=float32, weak_type=True)"
      ]
     },
     "execution_count": 2,
     "metadata": {},
     "output_type": "execute_result"
    }
   ],
   "source": [
    "d_squared = grad(squared)\n",
    "d_squared(2.)"
   ]
  },
  {
   "cell_type": "code",
   "execution_count": 3,
   "metadata": {},
   "outputs": [
    {
     "ename": "TypeError",
     "evalue": "Gradient only defined for scalar-output functions. Output had shape: (3,).",
     "output_type": "error",
     "traceback": [
      "\u001b[0;31m---------------------------------------------------------------------------\u001b[0m",
      "\u001b[0;31mTypeError\u001b[0m                                 Traceback (most recent call last)",
      "Cell \u001b[0;32mIn[3], line 2\u001b[0m\n\u001b[1;32m      1\u001b[0m \u001b[38;5;66;03m# TypeError: Gradient only defined for scalar-output functions. Output had shape: (3,).\u001b[39;00m\n\u001b[0;32m----> 2\u001b[0m \u001b[43md_squared\u001b[49m\u001b[43m(\u001b[49m\u001b[43mjnp\u001b[49m\u001b[38;5;241;43m.\u001b[39;49m\u001b[43marray\u001b[49m\u001b[43m(\u001b[49m\u001b[43m[\u001b[49m\u001b[38;5;241;43m-\u001b[39;49m\u001b[38;5;241;43m3\u001b[39;49m\u001b[43m,\u001b[49m\u001b[43m \u001b[49m\u001b[38;5;241;43m0.\u001b[39;49m\u001b[43m,\u001b[49m\u001b[43m \u001b[49m\u001b[38;5;241;43m3.\u001b[39;49m\u001b[43m]\u001b[49m\u001b[43m)\u001b[49m\u001b[43m)\u001b[49m\n",
      "    \u001b[0;31m[... skipping hidden 4 frame]\u001b[0m\n",
      "File \u001b[0;32m~/.virtualenv/py3_10_2/lib/python3.10/site-packages/jax/_src/api.py:727\u001b[0m, in \u001b[0;36m_check_scalar\u001b[0;34m(x)\u001b[0m\n\u001b[1;32m    725\u001b[0m \u001b[38;5;28;01mif\u001b[39;00m \u001b[38;5;28misinstance\u001b[39m(aval, ShapedArray):\n\u001b[1;32m    726\u001b[0m   \u001b[38;5;28;01mif\u001b[39;00m aval\u001b[38;5;241m.\u001b[39mshape \u001b[38;5;241m!=\u001b[39m ():\n\u001b[0;32m--> 727\u001b[0m     \u001b[38;5;28;01mraise\u001b[39;00m \u001b[38;5;167;01mTypeError\u001b[39;00m(msg(\u001b[38;5;124mf\u001b[39m\u001b[38;5;124m\"\u001b[39m\u001b[38;5;124mhad shape: \u001b[39m\u001b[38;5;132;01m{\u001b[39;00maval\u001b[38;5;241m.\u001b[39mshape\u001b[38;5;132;01m}\u001b[39;00m\u001b[38;5;124m\"\u001b[39m))\n\u001b[1;32m    728\u001b[0m \u001b[38;5;28;01melse\u001b[39;00m:\n\u001b[1;32m    729\u001b[0m   \u001b[38;5;28;01mraise\u001b[39;00m \u001b[38;5;167;01mTypeError\u001b[39;00m(msg(\u001b[38;5;124mf\u001b[39m\u001b[38;5;124m\"\u001b[39m\u001b[38;5;124mhad abstract value \u001b[39m\u001b[38;5;132;01m{\u001b[39;00maval\u001b[38;5;132;01m}\u001b[39;00m\u001b[38;5;124m\"\u001b[39m))\n",
      "\u001b[0;31mTypeError\u001b[0m: Gradient only defined for scalar-output functions. Output had shape: (3,)."
     ]
    }
   ],
   "source": [
    "# TypeError: Gradient only defined for scalar-output functions. Output had shape: (3,).\n",
    "d_squared(jnp.array([-3, 0., 3.]))"
   ]
  },
  {
   "cell_type": "code",
   "execution_count": 4,
   "metadata": {},
   "outputs": [
    {
     "data": {
      "text/plain": [
       "Array([-6., -4., -2.,  0.,  2.,  4.], dtype=float32)"
      ]
     },
     "execution_count": 4,
     "metadata": {},
     "output_type": "execute_result"
    }
   ],
   "source": [
    "# Auto-vectorization\n",
    "from jax import vmap\n",
    "\n",
    "vmap(d_squared)(jnp.arange(-3., 3.))"
   ]
  },
  {
   "cell_type": "code",
   "execution_count": 5,
   "metadata": {},
   "outputs": [
    {
     "name": "stdout",
     "output_type": "stream",
     "text": [
      "512 μs ± 10.2 μs per loop (mean ± std. dev. of 7 runs, 1,000 loops each)\n",
      "4.84 μs ± 15.5 ns per loop (mean ± std. dev. of 7 runs, 100,000 loops each)\n"
     ]
    }
   ],
   "source": [
    "# Jit\n",
    "from jax import jit\n",
    "\n",
    "%timeit d_squared(-2.).block_until_ready()\n",
    "\n",
    "jit_d_squared = jit(d_squared)\n",
    "%timeit jit_d_squared(-2.).block_until_ready()"
   ]
  },
  {
   "cell_type": "code",
   "execution_count": 6,
   "metadata": {},
   "outputs": [
    {
     "data": {
      "text/plain": [
       "Array([-6.,  0.,  6.], dtype=float32)"
      ]
     },
     "execution_count": 6,
     "metadata": {},
     "output_type": "execute_result"
    }
   ],
   "source": [
    "# Scalar output\n",
    "from jax import grad\n",
    "\n",
    "def sum_squared(x):\n",
    "  return jnp.sum(x**2)\n",
    "\n",
    "d_sum_squared = grad(sum_squared)\n",
    "d_sum_squared(jnp.array([-3., 0., 3.]))"
   ]
  },
  {
   "cell_type": "code",
   "execution_count": 7,
   "metadata": {},
   "outputs": [
    {
     "data": {
      "text/plain": [
       "Array(6., dtype=float32, weak_type=True)"
      ]
     },
     "execution_count": 7,
     "metadata": {},
     "output_type": "execute_result"
    }
   ],
   "source": [
    "# Weird behavior\n",
    "def squared2(x1, x2, x3):\n",
    "    return x1**2 + x2**2 + x3**2\n",
    "\n",
    "d_squared2 = grad(squared2)\n",
    "d_squared2(3., 2., 1.)"
   ]
  },
  {
   "cell_type": "code",
   "execution_count": 8,
   "metadata": {},
   "outputs": [
    {
     "data": {
      "text/plain": [
       "Array([ 0.7112138 , -0.30713332, -0.35718888,  1.3868424 , -0.40255332,\n",
       "       -0.7842863 ,  1.0894859 ,  1.2576592 , -0.96818185,  0.17469993],      dtype=float32)"
      ]
     },
     "metadata": {},
     "output_type": "display_data"
    },
    {
     "data": {
      "text/plain": [
       "Array([ 0.7112138 , -0.30713332, -0.35718888,  1.3868424 , -0.40255332,\n",
       "       -0.7842863 ,  1.0894859 ,  1.2576592 , -0.96818185,  0.17469993],      dtype=float32)"
      ]
     },
     "metadata": {},
     "output_type": "display_data"
    },
    {
     "data": {
      "text/plain": [
       "Array([ 2.2102735 ,  0.3470336 , -1.2627498 ,  0.69964904,  0.63290447,\n",
       "       -1.2527993 , -0.9961991 ,  0.07268224,  0.12105393,  0.93025947],      dtype=float32)"
      ]
     },
     "execution_count": 8,
     "metadata": {},
     "output_type": "execute_result"
    }
   ],
   "source": [
    "# Random\n",
    "from jax import random\n",
    "\n",
    "key = random.key(1701)\n",
    "x = random.normal(key, (10,))\n",
    "display(x)\n",
    "x = random.normal(key, (10,))\n",
    "display(x)\n",
    "x = random.normal(random.key(1702), (10,))\n",
    "x"
   ]
  },
  {
   "cell_type": "code",
   "execution_count": 9,
   "metadata": {},
   "outputs": [
    {
     "data": {
      "text/plain": [
       "Array([-4., -0.,  4.], dtype=float32)"
      ]
     },
     "execution_count": 9,
     "metadata": {},
     "output_type": "execute_result"
    }
   ],
   "source": [
    "# jnp.where\n",
    "def y(x):\n",
    "    return jnp.where(x > 0, x**2, -x**2)\n",
    "\n",
    "y(jnp.array([-2., 0, 2.]))"
   ]
  },
  {
   "cell_type": "code",
   "execution_count": 10,
   "metadata": {},
   "outputs": [
    {
     "data": {
      "text/plain": [
       "Array([[ 10.,  11.,  12.],\n",
       "       [110., 131., 152.],\n",
       "       [210., 251., 292.],\n",
       "       [310., 371., 432.]], dtype=float32)"
      ]
     },
     "execution_count": 10,
     "metadata": {},
     "output_type": "execute_result"
    }
   ],
   "source": [
    "# jnp.dot\n",
    "def mx(x):\n",
    "    m = jnp.array([\n",
    "        [0., 1.],\n",
    "        [10., 11.],\n",
    "        [20., 21.],\n",
    "        [30., 31.]])\n",
    "    return jnp.dot(m, x)\n",
    "\n",
    "mx(jnp.array([[0., 1., 2.], [10., 11., 12.]]))"
   ]
  },
  {
   "cell_type": "code",
   "execution_count": 12,
   "metadata": {},
   "outputs": [
    {
     "data": {
      "text/plain": [
       "Array([[  1.,  11.,  21.,  31.],\n",
       "       [ 11., 221., 431., 641.]], dtype=float32)"
      ]
     },
     "execution_count": 12,
     "metadata": {},
     "output_type": "execute_result"
    }
   ],
   "source": [
    "# Batching\n",
    "vmap(mx)(jnp.array([[0., 1.], [10., 11.]]))"
   ]
  },
  {
   "cell_type": "code",
   "execution_count": 14,
   "metadata": {},
   "outputs": [
    {
     "data": {
      "text/plain": [
       "Array([[10, 13],\n",
       "       [28, 40]], dtype=int32)"
      ]
     },
     "execution_count": 14,
     "metadata": {},
     "output_type": "execute_result"
    }
   ],
   "source": [
    "# matmul\n",
    "a = jnp.array([[0, 1, 2],\n",
    "               [3, 4, 5]])\n",
    "b = jnp.array([[0, 1],\n",
    "               [2, 3],\n",
    "               [4, 5]])\n",
    "jnp.matmul(a, b)"
   ]
  },
  {
   "cell_type": "code",
   "execution_count": 15,
   "metadata": {},
   "outputs": [
    {
     "data": {
      "text/plain": [
       "Array([[10, 13],\n",
       "       [28, 40]], dtype=int32)"
      ]
     },
     "execution_count": 15,
     "metadata": {},
     "output_type": "execute_result"
    }
   ],
   "source": [
    "# @ operator\n",
    "a @ b"
   ]
  },
  {
   "cell_type": "code",
   "execution_count": null,
   "metadata": {},
   "outputs": [],
   "source": []
  }
 ],
 "metadata": {
  "kernelspec": {
   "display_name": "py3_10_2",
   "language": "python",
   "name": "python3"
  },
  "language_info": {
   "codemirror_mode": {
    "name": "ipython",
    "version": 3
   },
   "file_extension": ".py",
   "mimetype": "text/x-python",
   "name": "python",
   "nbconvert_exporter": "python",
   "pygments_lexer": "ipython3",
   "version": "3.10.2"
  }
 },
 "nbformat": 4,
 "nbformat_minor": 2
}
